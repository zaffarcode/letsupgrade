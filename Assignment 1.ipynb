{
 "cells": [
  {
   "cell_type": "markdown",
   "metadata": {},
   "source": [
    "# Find the value of the following questions, Where x=5\n",
    "## (2x+5/x^2+5x+6)\n",
    "## (x^2+5x+6/2x+5)\n",
    "## (2x-3)(x-9)"
   ]
  },
  {
   "cell_type": "code",
   "execution_count": 5,
   "metadata": {},
   "outputs": [
    {
     "name": "stdout",
     "output_type": "stream",
     "text": [
      "enter the number 5\n",
      "answer is 0.26785714285714285\n"
     ]
    }
   ],
   "source": [
    "x = int(input(\"enter the number \"))\n",
    "y = (2*x+5)/(x**2+5*x+6)\n",
    "print(\"answer is\",y)"
   ]
  },
  {
   "cell_type": "code",
   "execution_count": 6,
   "metadata": {},
   "outputs": [
    {
     "name": "stdout",
     "output_type": "stream",
     "text": [
      "Enter the value 5\n",
      "The resut is 3.7333333333333334\n"
     ]
    }
   ],
   "source": [
    "x = int(input(\"Enter the value \"))\n",
    "y = (x**2+5*x+6)/(2*x+5)\n",
    "print(\"The resut is\",y)"
   ]
  },
  {
   "cell_type": "code",
   "execution_count": 7,
   "metadata": {},
   "outputs": [
    {
     "name": "stdout",
     "output_type": "stream",
     "text": [
      "Enter the number to find result 5\n",
      "the result is  98\n"
     ]
    }
   ],
   "source": [
    "x = int (input(\"Enter the number to find result \"))\n",
    "y = (2*x-3)*(x+9)\n",
    "print(\"the result is \",y)"
   ]
  },
  {
   "cell_type": "markdown",
   "metadata": {},
   "source": [
    "# Create a username and password login file using nested while loop"
   ]
  },
  {
   "cell_type": "code",
   "execution_count": 17,
   "metadata": {},
   "outputs": [
    {
     "name": "stdout",
     "output_type": "stream",
     "text": [
      "Enter your username: Country\n",
      "Enter your password: Ind\n",
      "Incorrect Password, please try again: India\n",
      "login Successful!\n"
     ]
    }
   ],
   "source": [
    "username = \"Country\"\n",
    "password = \"India\"\n",
    "user1 = input(\"Enter your username: \")\n",
    "pass1 = input(\"Enter your password: \")\n",
    "\n",
    "tries = 0\n",
    "if username == user1 and password == pass1:\n",
    "    print(\"Login Successful!\")\n",
    "elif username != user1:\n",
    "    print(\"Invalid username!\")\n",
    "elif password != pass1:\n",
    "    while tries<5:\n",
    "        pass1 = input(\"Incorrect Password, please try again: \")\n",
    "        if password == pass1:\n",
    "            print(\"login Successful!\")\n",
    "            break\n",
    "        tries=1+tries\n",
    "        print(\"You have used your \",tries,\" of 5 tries. \")\n",
    "        print(\"Account Blocled!!!\\nTry after 24 hour!!\")"
   ]
  }
 ],
 "metadata": {
  "kernelspec": {
   "display_name": "Python 3",
   "language": "python",
   "name": "python3"
  },
  "language_info": {
   "codemirror_mode": {
    "name": "ipython",
    "version": 3
   },
   "file_extension": ".py",
   "mimetype": "text/x-python",
   "name": "python",
   "nbconvert_exporter": "python",
   "pygments_lexer": "ipython3",
   "version": "3.8.5"
  }
 },
 "nbformat": 4,
 "nbformat_minor": 4
}
